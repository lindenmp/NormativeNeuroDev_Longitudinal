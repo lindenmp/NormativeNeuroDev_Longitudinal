{
 "cells": [
  {
   "cell_type": "markdown",
   "metadata": {},
   "source": [
    "# Preamble"
   ]
  },
  {
   "cell_type": "code",
   "execution_count": 1,
   "metadata": {},
   "outputs": [],
   "source": [
    "import os, sys\n",
    "import pandas as pd\n",
    "import numpy as np\n",
    "import numpy.matlib"
   ]
  },
  {
   "cell_type": "code",
   "execution_count": 2,
   "metadata": {},
   "outputs": [],
   "source": [
    "sys.path.append('/Users/lindenmp/Dropbox/Work/ResProjects/NormativeNeuroDev_Longitudinal/code/func/')\n",
    "from proj_environment import set_proj_env\n",
    "from func import get_synth_cov"
   ]
  },
  {
   "cell_type": "code",
   "execution_count": 3,
   "metadata": {},
   "outputs": [],
   "source": [
    "exclude_str = 't1Exclude'\n",
    "parc_str = 'schaefer'\n",
    "parc_scale = 400\n",
    "parcel_names, parcel_loc, drop_parcels, num_parcels, yeo_idx, yeo_labels = set_proj_env(exclude_str = exclude_str,\n",
    "                                                                            parc_str = parc_str, parc_scale = parc_scale)"
   ]
  },
  {
   "cell_type": "code",
   "execution_count": 4,
   "metadata": {},
   "outputs": [
    {
     "name": "stdout",
     "output_type": "stream",
     "text": [
      "/Users/lindenmp/Dropbox/Work/ResProjects/NormativeNeuroDev_Longitudinal/analysis/normative/t1Exclude/schaefer_400\n"
     ]
    }
   ],
   "source": [
    "print(os.environ['MODELDIR'])\n",
    "if not os.path.exists(os.environ['MODELDIR']): os.makedirs(os.environ['MODELDIR'])"
   ]
  },
  {
   "cell_type": "markdown",
   "metadata": {},
   "source": [
    "## Load data"
   ]
  },
  {
   "cell_type": "code",
   "execution_count": 5,
   "metadata": {},
   "outputs": [
    {
     "name": "stdout",
     "output_type": "stream",
     "text": [
      "(2305, 17)\n",
      "(2305, 400)\n"
     ]
    }
   ],
   "source": [
    "df = pd.read_csv(os.path.join(os.environ['MODELDIR_BASE'], 'df_pheno.csv'))\n",
    "df.set_index(['bblid', 'scanid', 'timepoint'], inplace = True)\n",
    "\n",
    "df_node = pd.read_csv(os.path.join(os.environ['MODELDIR_BASE'], 'df_node_clean.csv'))\n",
    "df_node.set_index(['bblid', 'scanid', 'timepoint'], inplace = True)\n",
    "\n",
    "# adjust sex to 0 and 1\n",
    "df['sex_adj'] = df.sex - 1\n",
    "print(df.shape)\n",
    "print(df_node.shape)"
   ]
  },
  {
   "cell_type": "markdown",
   "metadata": {},
   "source": [
    "# Prepare files for normative modelling"
   ]
  },
  {
   "cell_type": "markdown",
   "metadata": {},
   "source": [
    "Use the train/test split defined in get_longitudinal_sample to split data files and prepare inputs from normative modelling.\n",
    "\n",
    "Here, even though the data includes dependency (due to longitudinal data), the normative model is trained on cross-sectional data meaing the assumption of independence is stills satisfied for the gaussian process regression. However, the deviations from the normative model (which are estimated independently over individuals and regions) will have dependencies and this needs to be accounted for in subsequent analyses."
   ]
  },
  {
   "cell_type": "code",
   "execution_count": 6,
   "metadata": {},
   "outputs": [
    {
     "name": "stdout",
     "output_type": "stream",
     "text": [
      "['scanageYears', 'sex_adj']\n",
      "2\n"
     ]
    }
   ],
   "source": [
    "# Note, 'ageAtScan1_Years' is assumed to be covs[0] and 'sex_adj' is assumed to be covs[1]\n",
    "# if more than 2 covs are to be used, append to the end and age/sex will be duplicated accordingly in the forward model\n",
    "covs = ['scanageYears', 'sex_adj']\n",
    "\n",
    "print(covs)\n",
    "num_covs = len(covs)\n",
    "print(num_covs)"
   ]
  },
  {
   "cell_type": "code",
   "execution_count": 7,
   "metadata": {},
   "outputs": [],
   "source": [
    "extra_str_2 = ''"
   ]
  },
  {
   "cell_type": "markdown",
   "metadata": {},
   "source": [
    "## Primary model (train/test split)"
   ]
  },
  {
   "cell_type": "code",
   "execution_count": 8,
   "metadata": {},
   "outputs": [
    {
     "name": "stdout",
     "output_type": "stream",
     "text": [
      "/Users/lindenmp/Dropbox/Work/ResProjects/NormativeNeuroDev_Longitudinal/analysis/normative/t1Exclude/schaefer_400/scanageYears+sex_adj/\n"
     ]
    }
   ],
   "source": [
    "# Create subdirectory for specific normative model -- labeled according to parcellation/resolution choices and covariates\n",
    "normativedir = os.path.join(os.environ['MODELDIR'], '+'.join(covs) + extra_str_2 + '/')\n",
    "print(normativedir)\n",
    "if not os.path.exists(normativedir): os.mkdir(normativedir)"
   ]
  },
  {
   "cell_type": "code",
   "execution_count": 9,
   "metadata": {},
   "outputs": [
    {
     "name": "stdout",
     "output_type": "stream",
     "text": [
      "400 features written out for normative modeling\n"
     ]
    }
   ],
   "source": [
    "# Write out training -- retaining only residuals from nuissance regression\n",
    "df[~df['train_test']].to_csv(os.path.join(normativedir, 'train.csv'))\n",
    "df[~df['train_test']].to_csv(os.path.join(normativedir, 'cov_train.txt'), columns = covs, sep = ' ', index = False, header = False)\n",
    "\n",
    "resp_train = df_node[~df['train_test']]\n",
    "mask = np.all(np.isnan(resp_train), axis = 1)\n",
    "if np.any(mask): print(\"Warning: NaNs in response train\")\n",
    "resp_train.to_csv(os.path.join(normativedir, 'resp_train.csv'))\n",
    "resp_train.to_csv(os.path.join(normativedir, 'resp_train.txt'), sep = ' ', index = False, header = False)\n",
    "\n",
    "# Write out test -- retaining only residuals from nuissance regression\n",
    "df[df['train_test']].to_csv(os.path.join(normativedir, 'test.csv'))\n",
    "df[df['train_test']].to_csv(os.path.join(normativedir, 'cov_test.txt'), columns = covs, sep = ' ', index = False, header = False)\n",
    "\n",
    "resp_test = df_node[df['train_test']]\n",
    "mask = np.all(np.isnan(resp_test), axis = 1)\n",
    "if np.any(mask): print(\"Warning: NaNs in response train\")\n",
    "resp_test.to_csv(os.path.join(normativedir, 'resp_test.csv'))\n",
    "resp_test.to_csv(os.path.join(normativedir, 'resp_test.txt'), sep = ' ', index = False, header = False)\n",
    "\n",
    "print(str(resp_train.shape[1]) + ' features written out for normative modeling')"
   ]
  },
  {
   "cell_type": "markdown",
   "metadata": {},
   "source": [
    "### Forward variants"
   ]
  },
  {
   "cell_type": "markdown",
   "metadata": {},
   "source": [
    "Used only to examine the predictions made by the trained normative model"
   ]
  },
  {
   "cell_type": "code",
   "execution_count": 10,
   "metadata": {},
   "outputs": [
    {
     "name": "stdout",
     "output_type": "stream",
     "text": [
      "(38, 2)\n"
     ]
    }
   ],
   "source": [
    "# Create subdirectory for specific normative model -- labeled according to parcellation/resolution choices and covariates\n",
    "fwddir = os.path.join(normativedir, 'forward/')\n",
    "if not os.path.exists(fwddir): os.mkdir(fwddir)\n",
    "\n",
    "# Synthetic cov data\n",
    "x = get_synth_cov(df, cov = 'scanageYears', stp = 1)\n",
    "\n",
    "if 'sex_adj' in covs:\n",
    "    # Produce gender dummy variable for one repeat --> i.e., to account for two runs of ages, one per gender\n",
    "    gender_synth = np.concatenate((np.ones(x.shape),np.zeros(x.shape)), axis = 0)\n",
    "\n",
    "# concat\n",
    "synth_cov = np.concatenate((np.matlib.repmat(x, 2, 1), np.matlib.repmat(gender_synth, 1, 1)), axis = 1)\n",
    "print(synth_cov.shape)\n",
    "\n",
    "# write out\n",
    "np.savetxt(os.path.join(fwddir, 'synth_cov_test.txt'), synth_cov, delimiter = ' ', fmt = ['%.1f', '%.d'])"
   ]
  }
 ],
 "metadata": {
  "kernelspec": {
   "display_name": "Python 3",
   "language": "python",
   "name": "python3"
  },
  "language_info": {
   "codemirror_mode": {
    "name": "ipython",
    "version": 3
   },
   "file_extension": ".py",
   "mimetype": "text/x-python",
   "name": "python",
   "nbconvert_exporter": "python",
   "pygments_lexer": "ipython3",
   "version": "3.7.3"
  }
 },
 "nbformat": 4,
 "nbformat_minor": 4
}
